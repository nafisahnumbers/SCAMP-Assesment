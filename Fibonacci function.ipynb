{
 "cells": [
  {
   "cell_type": "code",
   "execution_count": 1,
   "metadata": {},
   "outputs": [],
   "source": [
    "def fibonacci(num_terms):     \n",
    "    if num_terms < 1:\n",
    "        return \"Please enter a positive integer\"\n",
    "    if num_terms == 1:\n",
    "        return 0\n",
    "    val_one = 0\n",
    "    val_two = 1\n",
    "    n =2\n",
    "    series = [0,1]\n",
    "    while n < num_terms:\n",
    "        val_two += val_one       \n",
    "        n += 1\n",
    "        series.append(val_two)\n",
    "        val_one = series[-2]                      \n",
    "    return series"
   ]
  },
  {
   "cell_type": "code",
   "execution_count": null,
   "metadata": {},
   "outputs": [],
   "source": []
  }
 ],
 "metadata": {
  "kernelspec": {
   "display_name": "Python 3",
   "language": "python",
   "name": "python3"
  },
  "language_info": {
   "codemirror_mode": {
    "name": "ipython",
    "version": 3
   },
   "file_extension": ".py",
   "mimetype": "text/x-python",
   "name": "python",
   "nbconvert_exporter": "python",
   "pygments_lexer": "ipython3",
   "version": "3.7.6"
  }
 },
 "nbformat": 4,
 "nbformat_minor": 4
}
